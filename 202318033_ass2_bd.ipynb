{
  "nbformat": 4,
  "nbformat_minor": 0,
  "metadata": {
    "colab": {
      "provenance": []
    },
    "kernelspec": {
      "name": "python3",
      "display_name": "Python 3"
    },
    "language_info": {
      "name": "python"
    }
  },
  "cells": [
    {
      "cell_type": "markdown",
      "source": [
        "**Assignment 2: TF-IDF**\n",
        "\n",
        "**Harshil shah**\n",
        "\n",
        "**202318033**\n",
        "\n",
        "\n"
      ],
      "metadata": {
        "id": "cwpKNB160lnf"
      }
    },
    {
      "cell_type": "code",
      "execution_count": 20,
      "metadata": {
        "id": "2X36JRF8jdH9"
      },
      "outputs": [],
      "source": [
        "\n",
        "#fetch the data\n",
        "from sklearn.datasets import fetch_20newsgroups\n",
        "\n",
        "data = fetch_20newsgroups(subset=\"train\")"
      ]
    },
    {
      "cell_type": "code",
      "source": [
        "#TfidfVectorizer is a class in scikit-learn that is used to convert a collection of raw documents (text) to a matrix of TF-IDF features.\n",
        "\n",
        "from sklearn.feature_extraction.text import TfidfVectorizer"
      ],
      "metadata": {
        "id": "8gyvqs5kj2BT"
      },
      "execution_count": 21,
      "outputs": []
    },
    {
      "cell_type": "code",
      "source": [
        "#fits it to the text data (data.data), and transforms the data into a TF-IDF matrix (x).\n",
        "\n",
        "vectorizer_data = TfidfVectorizer()\n",
        "data_y = vectorizer_data.fit_transform(data.data)\n",
        "print(data_y)"
      ],
      "metadata": {
        "colab": {
          "base_uri": "https://localhost:8080/"
        },
        "id": "JVPT7yhuklvp",
        "outputId": "6d509161-32ae-415c-dcd0-7b33a85a4595"
      },
      "execution_count": 22,
      "outputs": [
        {
          "output_type": "stream",
          "name": "stdout",
          "text": [
            "  (0, 86580)\t0.13157118714240987\n",
            "  (0, 128420)\t0.04278499079283093\n",
            "  (0, 35983)\t0.03770448563619875\n",
            "  (0, 35187)\t0.09353930598317124\n",
            "  (0, 66098)\t0.09785515708314481\n",
            "  (0, 114428)\t0.05511105154696676\n",
            "  (0, 78955)\t0.05989856888061599\n",
            "  (0, 94362)\t0.055457031390147224\n",
            "  (0, 76722)\t0.06908779999621749\n",
            "  (0, 57308)\t0.1558717009157704\n",
            "  (0, 62221)\t0.02921527992427867\n",
            "  (0, 128402)\t0.05922294083277842\n",
            "  (0, 67156)\t0.07313443922740179\n",
            "  (0, 123989)\t0.08207027465330353\n",
            "  (0, 90252)\t0.031889368795417566\n",
            "  (0, 63363)\t0.08342748387969037\n",
            "  (0, 78784)\t0.0633940918806495\n",
            "  (0, 96144)\t0.10826904490745741\n",
            "  (0, 128026)\t0.060622095889758885\n",
            "  (0, 109271)\t0.10844724822064673\n",
            "  (0, 51730)\t0.09714744057976722\n",
            "  (0, 86001)\t0.07000411445838192\n",
            "  (0, 83256)\t0.08844382496462173\n",
            "  (0, 113986)\t0.17691750674853082\n",
            "  (0, 37565)\t0.03431760442478462\n",
            "  :\t:\n",
            "  (11313, 87626)\t0.041237139601784885\n",
            "  (11313, 30044)\t0.03581554412880591\n",
            "  (11313, 76377)\t0.0635841806495367\n",
            "  (11313, 119714)\t0.05924995560199499\n",
            "  (11313, 47982)\t0.04878764010149914\n",
            "  (11313, 28146)\t0.04703946070749562\n",
            "  (11313, 88363)\t0.13916610283479094\n",
            "  (11313, 56283)\t0.026074886321515986\n",
            "  (11313, 111695)\t0.08039375842219382\n",
            "  (11313, 90252)\t0.03304599951634829\n",
            "  (11313, 51730)\t0.10067098834752665\n",
            "  (11313, 68766)\t0.026413823187147637\n",
            "  (11313, 89860)\t0.029615670644273114\n",
            "  (11313, 80638)\t0.0409862722594402\n",
            "  (11313, 4605)\t0.06562288156075427\n",
            "  (11313, 76032)\t0.019916554974882542\n",
            "  (11313, 89362)\t0.022525659920776243\n",
            "  (11313, 90379)\t0.020651681778766563\n",
            "  (11313, 64095)\t0.03670564487644039\n",
            "  (11313, 95162)\t0.035721664777432695\n",
            "  (11313, 87620)\t0.03696568532482317\n",
            "  (11313, 111322)\t0.019851534178948714\n",
            "  (11313, 85354)\t0.03831068303611253\n",
            "  (11313, 50527)\t0.056595152440003904\n",
            "  (11313, 56979)\t0.03970306835789743\n"
          ]
        }
      ]
    },
    {
      "cell_type": "code",
      "source": [
        "#computes the cosine similarity between vectors.\n",
        "\n",
        "'''Calculates the cosine similarity between the reshaped\n",
        "arrays of a1 and a2 using the cosine_similarity function. The resulting similarity value is extracted\n",
        "from the resulting matrix and returned.'''\n",
        "\n",
        "\n",
        "import numpy as np\n",
        "from sklearn.metrics.pairwise import cosine_similarity\n",
        "\n",
        "def cosine(x, y):\n",
        "    return cosine_similarity(np.array(x).reshape(1, -1), np.array(y).reshape(1, -1))[0, 0]\n",
        "\n",
        "x = [0.2, 0.4, 0.6, 0.8]\n",
        "y = [0.1, 0.3, 0.5, 0.7]\n",
        "\n",
        "similarity = cosine(x, y)\n",
        "print(similarity)\n"
      ],
      "metadata": {
        "colab": {
          "base_uri": "https://localhost:8080/"
        },
        "id": "1cXMYZlrlEiY",
        "outputId": "c8fa7560-a257-4997-a500-0e10adb1ffdf"
      },
      "execution_count": 23,
      "outputs": [
        {
          "output_type": "stream",
          "name": "stdout",
          "text": [
            "0.9960238411119946\n"
          ]
        }
      ]
    },
    {
      "cell_type": "code",
      "source": [
        "newsgroups = fetch_20newsgroups(subset='all', remove=('headers', 'footers', 'quotes'))"
      ],
      "metadata": {
        "id": "b36I8PJwmioq"
      },
      "execution_count": 24,
      "outputs": []
    },
    {
      "cell_type": "code",
      "source": [
        "'''this function takes an input document, a list of documents, and a vectorizer. It calculates the cosine similarity between the input document\n",
        "and the list of documents, identifies the top similar documents, and returns them along with their\n",
        "similarity scores in a list of tuples.'''\n",
        "\n",
        "from sklearn.metrics.pairwise import cosine_similarity\n",
        "\n",
        "def similarity(input_document, documents, vectorizer, top_n=5):\n",
        "    input_vector = vectorizer.transform([input_document])\n",
        "    documents_vectorized = vectorizer.transform(documents)\n",
        "\n",
        "    similarities = cosine_similarity(input_vector, documents_vectorized)\n",
        "    top_indices = similarities.argsort(axis=1)[:, ::-1][0][:top_n]\n",
        "\n",
        "    results = [(documents[i], similarities[0, i]) for i in top_indices]\n",
        "    return results\n"
      ],
      "metadata": {
        "id": "XdmMfqTxwbcG"
      },
      "execution_count": 25,
      "outputs": []
    },
    {
      "cell_type": "code",
      "source": [
        "input_document = \"hello. i m in daiict gandhinagar\"\n",
        "vectorizer = TfidfVectorizer(stop_words='english')\n",
        "tfidf_matrix = vectorizer.fit_transform(newsgroups.data)\n",
        "similar_documents = similarity(input_document, newsgroups.data, vectorizer)\n",
        "for i, (doc, similarity) in enumerate(similar_documents, start=1):\n",
        "    print(f\"Rank {i}: Similarity = {similarity:.4f}\\n{doc}\\n{'-'*50}\\n\")\n"
      ],
      "metadata": {
        "colab": {
          "base_uri": "https://localhost:8080/"
        },
        "id": "uPbKphWtxmMw",
        "outputId": "87a98bf8-e389-43a2-8f71-f65ced05a661"
      },
      "execution_count": 26,
      "outputs": [
        {
          "output_type": "stream",
          "name": "stdout",
          "text": [
            "Rank 1: Similarity = 1.0000\n",
            "Hello,\n",
            "--------------------------------------------------\n",
            "\n",
            "Rank 2: Similarity = 1.0000\n",
            "Hello,\n",
            "--------------------------------------------------\n",
            "\n",
            "Rank 3: Similarity = 0.6461\n",
            "hello testing\n",
            "\n",
            "\n",
            "\n",
            "--------------------------------------------------\n",
            "\n",
            "Rank 4: Similarity = 0.3792\n",
            "Hello!!!\n",
            "\n",
            "The title just about says it all.\n",
            "\n",
            "I need a list of the bugs for Motif 1.2.\n",
            "--------------------------------------------------\n",
            "\n",
            "Rank 5: Similarity = 0.3676\n",
            "Hello,\n",
            "i'm interested in those devices too.\n",
            "Could also send me your suggestions.\n",
            "Thank in advance.\n",
            "Regards.\n",
            "-- \n",
            "--------------------------------------------------\n",
            "\n"
          ]
        }
      ]
    },
    {
      "cell_type": "code",
      "source": [],
      "metadata": {
        "id": "GMnaRApXxsu5"
      },
      "execution_count": 26,
      "outputs": []
    }
  ]
}
